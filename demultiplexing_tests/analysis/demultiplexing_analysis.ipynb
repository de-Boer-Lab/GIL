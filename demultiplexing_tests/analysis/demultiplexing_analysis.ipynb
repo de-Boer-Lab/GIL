{
 "cells": [
  {
   "cell_type": "code",
   "execution_count": 1,
   "metadata": {},
   "outputs": [],
   "source": [
    "%matplotlib inline\n",
    "import gzip\n",
    "import matplotlib.pyplot as plt\n",
    "import pandas as pd\n",
    "import seaborn as sns\n",
    "import xml.etree.ElementTree as ET\n",
    "from collections import Counter\n",
    "from itertools import product, zip_longest"
   ]
  },
  {
   "cell_type": "markdown",
   "metadata": {},
   "source": [
    "Get index pairs from stats file."
   ]
  },
  {
   "cell_type": "code",
   "execution_count": 2,
   "metadata": {},
   "outputs": [
    {
     "name": "stdout",
     "output_type": "stream",
     "text": [
      "97\n",
      "45\n"
     ]
    }
   ],
   "source": [
    "tree = ET.parse('../data/output/Stats/DemultiplexingStats.xml')\n",
    "root = tree.getroot()\n",
    "\n",
    "index_pairs = []\n",
    "\n",
    "for index_pair in root.iter('Barcode'):\n",
    "  name = index_pair.get('name')\n",
    "  if name != \"all\":\n",
    "    index_pairs.append((name, int(index_pair[0].find('BarcodeCount').text)))\n",
    "\n",
    "index_pairs = sorted(index_pairs, key=lambda x: x[1], reverse=True) # All index pairs from sample sheet (not all were present in sequencing run)\n",
    "index_pairs_present = [index_pair for index_pair in index_pairs if index_pair[1]] # Only indexes observed in sequencing run\n",
    "\n",
    "print(len(index_pairs)) # should be 97 (96 + unknown)\n",
    "print(len(index_pairs_present)) # should be 45 (44 + unknown)"
   ]
  },
  {
   "attachments": {},
   "cell_type": "markdown",
   "metadata": {},
   "source": [
    "Load results from GSC MiSeq QC run and compare to our demultiplexing run. These were independently demultiplexed by GSC, so this is a sanity check to make sure bcl2fastq worked as expected."
   ]
  },
  {
   "cell_type": "code",
   "execution_count": 3,
   "metadata": {},
   "outputs": [],
   "source": [
    "GSC_results = pd.read_csv('../data/GSC_demultiplex_stats.csv')\n",
    "# GSC_results"
   ]
  },
  {
   "cell_type": "markdown",
   "metadata": {},
   "source": [
    "Check that our counts match the GSC counts for each index pair."
   ]
  },
  {
   "cell_type": "code",
   "execution_count": 4,
   "metadata": {},
   "outputs": [
    {
     "name": "stdout",
     "output_type": "stream",
     "text": [
      "Barcode              Our Count  GSC Count  Equal     \n",
      "CTTCGGTC+CATCGTTA    53944      53944      1         \n",
      "TGCGAGGA+TACGGTTA    50517      50517      1         \n",
      "TACGATTC+CGGAAGAG    47636      47636      1         \n",
      "AGAATCAG+TACGACAG    45817      45817      1         \n",
      "AGCATAGT+CAGTCGAG    41549      41549      1         \n",
      "TACCTGGT+TGAGGTCT    40380      40380      1         \n",
      "unknown              39915      129523     0         \n",
      "TCTTCCTG+TTCCAACG    36409      36409      1         \n",
      "CTAGAACC+TGGTCTAA    34626      34626      1         \n",
      "CACAATCG+TCAACTCA    26354      26354      1         \n",
      "ACGCCACA+CCGAACCA    19363      19363      1         \n",
      "TTCCAATC+TTACGCTA    19327      19327      1         \n",
      "ACGGAGGT+CGAGAGTT    18587      18587      1         \n",
      "TAACATGC+ACACTCAT    18524      18524      1         \n",
      "CGCTTCCT+ACCACTGA    17421      17421      1         \n",
      "CTGAGAGG+TAGCTACG    15812      15812      1         \n",
      "ACTATTGC+TCCTGTGT    15063      15063      1         \n",
      "CCGTACAT+CAACTGAA    14868      14868      1         \n",
      "CTCTTACC+CGGAGATA    14252      14252      1         \n",
      "TAATGCAG+AAGGCGTT    13877      13877      1         \n",
      "CGATGGTG+AAGTAGTG    13674      13674      1         \n",
      "ACTGGAAT+TCTGTGAA    13226      13226      1         \n",
      "CAGCATGG+CTCAGCAT    12873      12873      1         \n",
      "CTCACAAC+TGGTAGCT    12780      12780      1         \n",
      "TGCAGTGG+AGCTTCTT    11893      11893      1         \n",
      "AATGCCAA+TTGTGCGT    10921      10921      1         \n",
      "CCGGAACA+CGGTGGAA    10373      10373      1         \n",
      "TCTTGCAT+TTCTTGGA    9642       9642       1         \n",
      "AGGAGTTA+AGCGGTGA    9073       9073       1         \n",
      "AAGATGGT+TCTCGATA    8975       8975       1         \n",
      "TAGGCTAA+AAGAGCAT    7922       7922       1         \n",
      "TAGAGGCT+ACTCCACG    7443       7443       1         \n",
      "CGACTAGG+TACCATTG    6717       6717       1         \n",
      "ATGATGAC+AAGCGGCA    2698       2698       1         \n",
      "CACGTGTG+ACAGCCTG    2115       2115       1         \n",
      "CTAACGTT+ATACCAGG    1671       1671       1         \n"
     ]
    }
   ],
   "source": [
    "comparison = [\"{:<20} {:<10} {:<10} {:<10}\".format(*['Barcode', 'Our Count', 'GSC Count', 'Equal'])]\n",
    "for index_pair, count in index_pairs_present:\n",
    "  if index_pair in list(GSC_results['Barcode sequence']):\n",
    "    GSC_count = int((GSC_results.loc[GSC_results['Barcode sequence'] == index_pair].iloc[0]['PF Clusters']).replace(',', ''))\n",
    "    comparison.append(\"{:<20} {:<10} {:<10} {:<10}\".format(*[index_pair, count, GSC_count, count == GSC_count]))\n",
    "\n",
    "print('\\n'.join(comparison))"
   ]
  },
  {
   "attachments": {},
   "cell_type": "markdown",
   "metadata": {},
   "source": [
    "Only 'unknown' has different counts. This is because we gave them incorrect indexes for 9 of the libraries, so reads from these libraries were part of the 'unknown' counts when GSC first tried demultiplexing."
   ]
  },
  {
   "attachments": {},
   "cell_type": "markdown",
   "metadata": {},
   "source": [
    "Get all barcodes that were not demultiplexed. Only need to read the R1 undetermined file because both indexes are in the identifier line."
   ]
  },
  {
   "cell_type": "code",
   "execution_count": 5,
   "metadata": {},
   "outputs": [],
   "source": [
    "def parse_fastq_gz(fastq):\n",
    "    with gzip.open(fastq, 'rb') as f:\n",
    "        fastq_iter = (l.decode('utf-8').rstrip() for l in f)\n",
    "        for read in zip_longest(*[fastq_iter] * 4):\n",
    "            yield read"
   ]
  },
  {
   "cell_type": "code",
   "execution_count": 6,
   "metadata": {},
   "outputs": [
    {
     "name": "stdout",
     "output_type": "stream",
     "text": [
      "39915\n"
     ]
    }
   ],
   "source": [
    "discarded = []\n",
    "for read in parse_fastq_gz('../data/output/Undetermined_S0_L001_R1_001.fastq.gz'):\n",
    "  discarded.append(read[0][-17:]) # Index sequences are last 17 characters in line\n",
    "\n",
    "print(len(discarded))\n",
    "# print(discarded[0])"
   ]
  },
  {
   "cell_type": "markdown",
   "metadata": {},
   "source": [
    "39915 reads didn't demultiplex. This matches the \"unknown\" count. A good portion of these discarded reads are PhiX pike-in, which had the index pair ATCTCGTA+TCTTTCCC."
   ]
  },
  {
   "cell_type": "code",
   "execution_count": 7,
   "metadata": {},
   "outputs": [
    {
     "name": "stdout",
     "output_type": "stream",
     "text": [
      "11313\n"
     ]
    }
   ],
   "source": [
    "discarded_counts = Counter(discarded)\n",
    "print(discarded_counts['ATCTCGTA+TCTTTCCC'])\n",
    "discarded_unique = set(discarded)"
   ]
  },
  {
   "cell_type": "markdown",
   "metadata": {},
   "source": [
    "11313 reads were from the PhiX with no mismatches in the barcode."
   ]
  },
  {
   "attachments": {},
   "cell_type": "markdown",
   "metadata": {},
   "source": [
    "Remove PhiX index pair and any other index pairs from discarded_counts such that both indexes are within Hamming distance of 1 from the true PhiX indexes (this simulates what bcl2fastq would do). Add the PhiX index and read counts to index_pairs_present. Also remove \"unknown\" from index_pairs_present."
   ]
  },
  {
   "cell_type": "code",
   "execution_count": 8,
   "metadata": {},
   "outputs": [],
   "source": [
    "def hamming(a, b):\n",
    "  return(sum(i != j for i, j in zip(a, b)))\n",
    "\n",
    "correct_index1 = 'ATCTCGTA'\n",
    "correct_index2 = 'TCTTTCCC'\n",
    "phiX_reads = 0\n",
    "phiX_discarded = []\n",
    "for discarded_pair in discarded_unique:\n",
    "  index1 = discarded_pair[:8]\n",
    "  index2 = discarded_pair[9:]\n",
    "  if hamming(correct_index1, index1) <= 1 and hamming(correct_index2, index2) <= 1:\n",
    "    phiX_reads += discarded_counts[discarded_pair]\n",
    "    phiX_discarded.append(discarded_pair)\n",
    "\n",
    "\n",
    "index_pairs_present = [i for i in index_pairs_present if i[0] != 'unknown']\n",
    "index_pairs_present.append(('ATCTCGTA+TCTTTCCC', phiX_reads))\n",
    "\n",
    "discarded_unique = [x for x in discarded_unique if x not in phiX_discarded]\n",
    "\n",
    "for pair in phiX_discarded:\n",
    "  discarded_counts.pop(pair)"
   ]
  },
  {
   "cell_type": "markdown",
   "metadata": {},
   "source": [
    "Check how many unique index pairs are present in the discarded reads."
   ]
  },
  {
   "cell_type": "code",
   "execution_count": 9,
   "metadata": {},
   "outputs": [
    {
     "name": "stdout",
     "output_type": "stream",
     "text": [
      "21194\n",
      "11650\n"
     ]
    }
   ],
   "source": [
    "print(len(discarded_counts))\n",
    "# print(len(discarded_unique))\n",
    "print(phiX_reads)"
   ]
  },
  {
   "cell_type": "markdown",
   "metadata": {},
   "source": [
    "Check how many reads didn't demultiplex after removing PhiX reads."
   ]
  },
  {
   "cell_type": "code",
   "execution_count": 10,
   "metadata": {},
   "outputs": [
    {
     "name": "stdout",
     "output_type": "stream",
     "text": [
      "28265\n",
      "39915\n"
     ]
    }
   ],
   "source": [
    "print(discarded_counts.total())\n",
    "print(discarded_counts.total() + phiX_reads)"
   ]
  },
  {
   "cell_type": "markdown",
   "metadata": {},
   "source": [
    "28265 reads didn't demultiplex. Look at Distribution of read counts for index pairs that didn't demultiplex."
   ]
  },
  {
   "cell_type": "code",
   "execution_count": 11,
   "metadata": {},
   "outputs": [
    {
     "data": {
      "image/png": "[encoded data removed]",
      "text/plain": [
       "<Figure size 432x288 with 1 Axes>"
      ]
     },
     "metadata": {
      "needs_background": "light"
     },
     "output_type": "display_data"
    }
   ],
   "source": [
    "plt.hist(discarded_counts.values(), bins=range(12))\n",
    "plt.show()"
   ]
  },
  {
   "cell_type": "code",
   "execution_count": 12,
   "metadata": {},
   "outputs": [
    {
     "data": {
      "image/png": "[encoded data removed]",
      "text/plain": [
       "<Figure size 432x288 with 1 Axes>"
      ]
     },
     "metadata": {
      "needs_background": "light"
     },
     "output_type": "display_data"
    }
   ],
   "source": [
    "plt.hist(discarded_counts.values(), bins=range(3, 50))\n",
    "plt.show()"
   ]
  },
  {
   "cell_type": "markdown",
   "metadata": {},
   "source": [
    "Now check how many discarded reads had index pairs that were the result of a deletion in one or both indexes. For MiSeq, a deletion in either index will result in an 'A' at the 8th position of the index. For each correct index pair, generate all index pair combinations that could result from a single deletion in one or both indexes."
   ]
  },
  {
   "cell_type": "code",
   "execution_count": 13,
   "metadata": {},
   "outputs": [],
   "source": [
    "def all_deletions(seq):\n",
    "  deletions = [seq]\n",
    "  for i in range(len(seq)):\n",
    "    seq_bases = [base for base in seq]\n",
    "    seq_bases.pop(i)\n",
    "    seq_bases.append('A')\n",
    "    deletions.append(''.join(seq_bases))\n",
    "  return deletions\n",
    "\n",
    "# print(all_deletions('ACGT'))\n",
    "\n",
    "def all_deletion_combinations(idx1, idx2):\n",
    "  return [i + '+' + j for i, j in product(all_deletions(idx1), all_deletions(idx2))]\n",
    "\n",
    "# print(all_deletion_combinations('ACTG', 'GTCA'))"
   ]
  },
  {
   "cell_type": "markdown",
   "metadata": {},
   "source": [
    "Get deletion index pairs present in the discarded reads and the counts for each pair."
   ]
  },
  {
   "cell_type": "code",
   "execution_count": 14,
   "metadata": {},
   "outputs": [],
   "source": [
    "observed_deletions = {}\n",
    "\n",
    "for index_pair, frequency in index_pairs_present:\n",
    "  pair_observed_deletions = []\n",
    "  deletions = all_deletion_combinations(index_pair[:8], index_pair[9:])\n",
    "  for deletion in deletions:\n",
    "    if deletion in discarded_unique:\n",
    "      pair_observed_deletions.append((deletion, discarded_counts[deletion]))\n",
    "  # Converting list to dict here accounts for cases where the same index pair is present\n",
    "  # multiple times in the list of all possible combinations (identical tuples are collapsed).\n",
    "  observed_deletions[index_pair] = Counter(dict(pair_observed_deletions))\n",
    "\n",
    "# observed_deletions['CTTCGGTC+CATCGTTA']\n"
   ]
  },
  {
   "cell_type": "markdown",
   "metadata": {},
   "source": [
    "Check how many discarded reads were the result of a deletion in one or both indexes."
   ]
  },
  {
   "cell_type": "code",
   "execution_count": 15,
   "metadata": {},
   "outputs": [
    {
     "name": "stdout",
     "output_type": "stream",
     "text": [
      "1435\n"
     ]
    }
   ],
   "source": [
    "print(sum(pairs.total() for pairs in observed_deletions.values()))"
   ]
  },
  {
   "cell_type": "markdown",
   "metadata": {},
   "source": [
    "For each index pair, find all discarded index pairs such that each index in the discarded pair is within Levenshtein distance of two from the correct index."
   ]
  },
  {
   "cell_type": "code",
   "execution_count": 16,
   "metadata": {},
   "outputs": [],
   "source": [
    "def levenshtein(s1, s2):\n",
    "    if len(s1) < len(s2):\n",
    "        return levenshtein(s2, s1)\n",
    "\n",
    "    # len(s1) >= len(s2)\n",
    "    if len(s2) == 0:\n",
    "        return len(s1)\n",
    "\n",
    "    previous_row = range(len(s2) + 1)\n",
    "    for i, c1 in enumerate(s1):\n",
    "        current_row = [i + 1]\n",
    "        for j, c2 in enumerate(s2):\n",
    "            insertions = previous_row[j + 1] + 1 # j+1 instead of j since previous_row and current_row are one character longer\n",
    "            deletions = current_row[j] + 1       # than s2\n",
    "            substitutions = previous_row[j] + (c1 != c2)\n",
    "            current_row.append(min(insertions, deletions, substitutions))\n",
    "        previous_row = current_row\n",
    "    \n",
    "    return previous_row[-1]"
   ]
  },
  {
   "cell_type": "code",
   "execution_count": 17,
   "metadata": {},
   "outputs": [],
   "source": [
    "similar_index_pairs = {}\n",
    "\n",
    "for index_pair, frequency in index_pairs_present:\n",
    "  similar_to_pair = []\n",
    "  correct_index1 = index_pair[:8]\n",
    "  correct_index2 = index_pair[9:]\n",
    "  for discarded_pair in discarded_unique:\n",
    "    index1 = discarded_pair[:8]\n",
    "    index2 = discarded_pair[9:]\n",
    "    if levenshtein(correct_index1, index1) <= 2 and levenshtein(correct_index2, index2) <= 2:\n",
    "      similar_to_pair.append((discarded_pair, discarded_counts[discarded_pair]))\n",
    "  similar_index_pairs[index_pair] = Counter(dict(similar_to_pair))\n",
    "\n",
    "# similar_index_pairs['CTTCGGTC+CATCGTTA']"
   ]
  },
  {
   "cell_type": "code",
   "execution_count": 18,
   "metadata": {},
   "outputs": [
    {
     "name": "stdout",
     "output_type": "stream",
     "text": [
      "13325\n"
     ]
    }
   ],
   "source": [
    "print(sum(pairs.total() for pairs in similar_index_pairs.values()))"
   ]
  },
  {
   "attachments": {},
   "cell_type": "markdown",
   "metadata": {},
   "source": [
    "Look at number of discarded reads with indexes within Levenshtein distance of 2 and number of discarded reads with a single deletion in one or both indexes for each sample."
   ]
  },
  {
   "cell_type": "code",
   "execution_count": 19,
   "metadata": {},
   "outputs": [],
   "source": [
    "index_stats = pd.DataFrame(index_pairs_present, columns=['Index', 'Demultiplexed Reads'])\n",
    "index_stats = index_stats.drop(6) # get rid of unknown"
   ]
  },
  {
   "cell_type": "code",
   "execution_count": 20,
   "metadata": {},
   "outputs": [
    {
     "data": {
      "text/html": [
       "<div>\n",
       "<style scoped>\n",
       "    .dataframe tbody tr th:only-of-type {\n",
       "        vertical-align: middle;\n",
       "    }\n",
       "\n",
       "    .dataframe tbody tr th {\n",
       "        vertical-align: top;\n",
       "    }\n",
       "\n",
       "    .dataframe thead th {\n",
       "        text-align: right;\n",
       "    }\n",
       "</style>\n",
       "<table border=\"1\" class=\"dataframe\">\n",
       "  <thead>\n",
       "    <tr style=\"text-align: right;\">\n",
       "      <th></th>\n",
       "      <th>Index</th>\n",
       "      <th>Demultiplexed Reads</th>\n",
       "      <th>Similar Index Count</th>\n",
       "      <th>Similar Index Reads</th>\n",
       "      <th>Similar Index Percent</th>\n",
       "      <th>Deletion Index Count</th>\n",
       "      <th>Deletion Index Reads</th>\n",
       "      <th>Deletion Index Percent</th>\n",
       "    </tr>\n",
       "  </thead>\n",
       "  <tbody>\n",
       "    <tr>\n",
       "      <th>0</th>\n",
       "      <td>CTTCGGTC+CATCGTTA</td>\n",
       "      <td>53944</td>\n",
       "      <td>246</td>\n",
       "      <td>557</td>\n",
       "      <td>1.022000</td>\n",
       "      <td>10</td>\n",
       "      <td>144</td>\n",
       "      <td>0.266233</td>\n",
       "    </tr>\n",
       "    <tr>\n",
       "      <th>1</th>\n",
       "      <td>TGCGAGGA+TACGGTTA</td>\n",
       "      <td>50517</td>\n",
       "      <td>203</td>\n",
       "      <td>366</td>\n",
       "      <td>0.719297</td>\n",
       "      <td>9</td>\n",
       "      <td>66</td>\n",
       "      <td>0.130479</td>\n",
       "    </tr>\n",
       "    <tr>\n",
       "      <th>2</th>\n",
       "      <td>TACGATTC+CGGAAGAG</td>\n",
       "      <td>47636</td>\n",
       "      <td>236</td>\n",
       "      <td>463</td>\n",
       "      <td>0.962598</td>\n",
       "      <td>11</td>\n",
       "      <td>123</td>\n",
       "      <td>0.257543</td>\n",
       "    </tr>\n",
       "    <tr>\n",
       "      <th>3</th>\n",
       "      <td>AGAATCAG+TACGACAG</td>\n",
       "      <td>45817</td>\n",
       "      <td>219</td>\n",
       "      <td>422</td>\n",
       "      <td>0.912649</td>\n",
       "      <td>13</td>\n",
       "      <td>83</td>\n",
       "      <td>0.180828</td>\n",
       "    </tr>\n",
       "    <tr>\n",
       "      <th>4</th>\n",
       "      <td>AGCATAGT+CAGTCGAG</td>\n",
       "      <td>41549</td>\n",
       "      <td>428</td>\n",
       "      <td>728</td>\n",
       "      <td>1.721976</td>\n",
       "      <td>14</td>\n",
       "      <td>109</td>\n",
       "      <td>0.261654</td>\n",
       "    </tr>\n",
       "    <tr>\n",
       "      <th>5</th>\n",
       "      <td>TACCTGGT+TGAGGTCT</td>\n",
       "      <td>40380</td>\n",
       "      <td>361</td>\n",
       "      <td>702</td>\n",
       "      <td>1.708778</td>\n",
       "      <td>11</td>\n",
       "      <td>90</td>\n",
       "      <td>0.222387</td>\n",
       "    </tr>\n",
       "    <tr>\n",
       "      <th>7</th>\n",
       "      <td>CTAGAACC+TGGTCTAA</td>\n",
       "      <td>34626</td>\n",
       "      <td>322</td>\n",
       "      <td>522</td>\n",
       "      <td>1.485149</td>\n",
       "      <td>9</td>\n",
       "      <td>61</td>\n",
       "      <td>0.175858</td>\n",
       "    </tr>\n",
       "    <tr>\n",
       "      <th>8</th>\n",
       "      <td>CACAATCG+TCAACTCA</td>\n",
       "      <td>26354</td>\n",
       "      <td>386</td>\n",
       "      <td>545</td>\n",
       "      <td>2.026098</td>\n",
       "      <td>11</td>\n",
       "      <td>39</td>\n",
       "      <td>0.147766</td>\n",
       "    </tr>\n",
       "    <tr>\n",
       "      <th>9</th>\n",
       "      <td>TACGTGCA+CGTCATTG</td>\n",
       "      <td>20511</td>\n",
       "      <td>351</td>\n",
       "      <td>492</td>\n",
       "      <td>2.342522</td>\n",
       "      <td>12</td>\n",
       "      <td>43</td>\n",
       "      <td>0.209205</td>\n",
       "    </tr>\n",
       "    <tr>\n",
       "      <th>10</th>\n",
       "      <td>TTAGTGGT+AAGGTCTG</td>\n",
       "      <td>19647</td>\n",
       "      <td>357</td>\n",
       "      <td>539</td>\n",
       "      <td>2.670167</td>\n",
       "      <td>6</td>\n",
       "      <td>19</td>\n",
       "      <td>0.096613</td>\n",
       "    </tr>\n",
       "    <tr>\n",
       "      <th>11</th>\n",
       "      <td>ACGCCACA+CCGAACCA</td>\n",
       "      <td>19363</td>\n",
       "      <td>98</td>\n",
       "      <td>154</td>\n",
       "      <td>0.789056</td>\n",
       "      <td>8</td>\n",
       "      <td>28</td>\n",
       "      <td>0.144397</td>\n",
       "    </tr>\n",
       "    <tr>\n",
       "      <th>12</th>\n",
       "      <td>TTCCAATC+TTACGCTA</td>\n",
       "      <td>19327</td>\n",
       "      <td>293</td>\n",
       "      <td>428</td>\n",
       "      <td>2.166540</td>\n",
       "      <td>7</td>\n",
       "      <td>37</td>\n",
       "      <td>0.191076</td>\n",
       "    </tr>\n",
       "    <tr>\n",
       "      <th>13</th>\n",
       "      <td>ACGGAGGT+CGAGAGTT</td>\n",
       "      <td>18587</td>\n",
       "      <td>118</td>\n",
       "      <td>194</td>\n",
       "      <td>1.032959</td>\n",
       "      <td>10</td>\n",
       "      <td>36</td>\n",
       "      <td>0.193309</td>\n",
       "    </tr>\n",
       "    <tr>\n",
       "      <th>14</th>\n",
       "      <td>TAACATGC+ACACTCAT</td>\n",
       "      <td>18524</td>\n",
       "      <td>300</td>\n",
       "      <td>389</td>\n",
       "      <td>2.056786</td>\n",
       "      <td>14</td>\n",
       "      <td>36</td>\n",
       "      <td>0.193966</td>\n",
       "    </tr>\n",
       "    <tr>\n",
       "      <th>15</th>\n",
       "      <td>CGTTAATC+CCAAGTTA</td>\n",
       "      <td>17435</td>\n",
       "      <td>279</td>\n",
       "      <td>379</td>\n",
       "      <td>2.127540</td>\n",
       "      <td>5</td>\n",
       "      <td>16</td>\n",
       "      <td>0.091685</td>\n",
       "    </tr>\n",
       "    <tr>\n",
       "      <th>16</th>\n",
       "      <td>CGCTTCCT+ACCACTGA</td>\n",
       "      <td>17421</td>\n",
       "      <td>303</td>\n",
       "      <td>434</td>\n",
       "      <td>2.430692</td>\n",
       "      <td>9</td>\n",
       "      <td>38</td>\n",
       "      <td>0.217653</td>\n",
       "    </tr>\n",
       "    <tr>\n",
       "      <th>17</th>\n",
       "      <td>CTGAGAGG+TAGCTACG</td>\n",
       "      <td>15812</td>\n",
       "      <td>254</td>\n",
       "      <td>334</td>\n",
       "      <td>2.068624</td>\n",
       "      <td>12</td>\n",
       "      <td>29</td>\n",
       "      <td>0.183069</td>\n",
       "    </tr>\n",
       "    <tr>\n",
       "      <th>18</th>\n",
       "      <td>ACTATTGC+TCCTGTGT</td>\n",
       "      <td>15063</td>\n",
       "      <td>108</td>\n",
       "      <td>165</td>\n",
       "      <td>1.083530</td>\n",
       "      <td>11</td>\n",
       "      <td>27</td>\n",
       "      <td>0.178926</td>\n",
       "    </tr>\n",
       "    <tr>\n",
       "      <th>19</th>\n",
       "      <td>CCGTACAT+CAACTGAA</td>\n",
       "      <td>14868</td>\n",
       "      <td>190</td>\n",
       "      <td>271</td>\n",
       "      <td>1.790079</td>\n",
       "      <td>10</td>\n",
       "      <td>30</td>\n",
       "      <td>0.201369</td>\n",
       "    </tr>\n",
       "    <tr>\n",
       "      <th>20</th>\n",
       "      <td>CTCTTACC+CGGAGATA</td>\n",
       "      <td>14252</td>\n",
       "      <td>228</td>\n",
       "      <td>313</td>\n",
       "      <td>2.148987</td>\n",
       "      <td>10</td>\n",
       "      <td>25</td>\n",
       "      <td>0.175107</td>\n",
       "    </tr>\n",
       "    <tr>\n",
       "      <th>21</th>\n",
       "      <td>TAATGCAG+AAGGCGTT</td>\n",
       "      <td>13877</td>\n",
       "      <td>254</td>\n",
       "      <td>325</td>\n",
       "      <td>2.288410</td>\n",
       "      <td>7</td>\n",
       "      <td>24</td>\n",
       "      <td>0.172649</td>\n",
       "    </tr>\n",
       "    <tr>\n",
       "      <th>22</th>\n",
       "      <td>CGATGGTG+AAGTAGTG</td>\n",
       "      <td>13674</td>\n",
       "      <td>267</td>\n",
       "      <td>365</td>\n",
       "      <td>2.599900</td>\n",
       "      <td>11</td>\n",
       "      <td>26</td>\n",
       "      <td>0.189781</td>\n",
       "    </tr>\n",
       "    <tr>\n",
       "      <th>23</th>\n",
       "      <td>ACTGGAAT+TCTGTGAA</td>\n",
       "      <td>13226</td>\n",
       "      <td>184</td>\n",
       "      <td>248</td>\n",
       "      <td>1.840582</td>\n",
       "      <td>8</td>\n",
       "      <td>17</td>\n",
       "      <td>0.128370</td>\n",
       "    </tr>\n",
       "    <tr>\n",
       "      <th>24</th>\n",
       "      <td>CAGCATGG+CTCAGCAT</td>\n",
       "      <td>12873</td>\n",
       "      <td>245</td>\n",
       "      <td>287</td>\n",
       "      <td>2.180851</td>\n",
       "      <td>11</td>\n",
       "      <td>17</td>\n",
       "      <td>0.131885</td>\n",
       "    </tr>\n",
       "    <tr>\n",
       "      <th>25</th>\n",
       "      <td>CTCACAAC+TGGTAGCT</td>\n",
       "      <td>12780</td>\n",
       "      <td>183</td>\n",
       "      <td>266</td>\n",
       "      <td>2.038939</td>\n",
       "      <td>12</td>\n",
       "      <td>26</td>\n",
       "      <td>0.203030</td>\n",
       "    </tr>\n",
       "    <tr>\n",
       "      <th>26</th>\n",
       "      <td>TGCAGTGG+AGCTTCTT</td>\n",
       "      <td>11893</td>\n",
       "      <td>68</td>\n",
       "      <td>99</td>\n",
       "      <td>0.825550</td>\n",
       "      <td>8</td>\n",
       "      <td>20</td>\n",
       "      <td>0.167884</td>\n",
       "    </tr>\n",
       "    <tr>\n",
       "      <th>27</th>\n",
       "      <td>TTACAGAG+AGTGCCAG</td>\n",
       "      <td>11132</td>\n",
       "      <td>206</td>\n",
       "      <td>250</td>\n",
       "      <td>2.196451</td>\n",
       "      <td>7</td>\n",
       "      <td>12</td>\n",
       "      <td>0.107681</td>\n",
       "    </tr>\n",
       "    <tr>\n",
       "      <th>28</th>\n",
       "      <td>AATGCCAA+TTGTGCGT</td>\n",
       "      <td>10921</td>\n",
       "      <td>151</td>\n",
       "      <td>227</td>\n",
       "      <td>2.036240</td>\n",
       "      <td>9</td>\n",
       "      <td>27</td>\n",
       "      <td>0.246620</td>\n",
       "    </tr>\n",
       "    <tr>\n",
       "      <th>29</th>\n",
       "      <td>CCGGAACA+CGGTGGAA</td>\n",
       "      <td>10373</td>\n",
       "      <td>194</td>\n",
       "      <td>237</td>\n",
       "      <td>2.233742</td>\n",
       "      <td>3</td>\n",
       "      <td>4</td>\n",
       "      <td>0.038547</td>\n",
       "    </tr>\n",
       "    <tr>\n",
       "      <th>30</th>\n",
       "      <td>CTGTCTAT+ATCTAAGG</td>\n",
       "      <td>10240</td>\n",
       "      <td>196</td>\n",
       "      <td>234</td>\n",
       "      <td>2.234103</td>\n",
       "      <td>5</td>\n",
       "      <td>8</td>\n",
       "      <td>0.078064</td>\n",
       "    </tr>\n",
       "    <tr>\n",
       "      <th>31</th>\n",
       "      <td>TCTTGCAT+TTCTTGGA</td>\n",
       "      <td>9642</td>\n",
       "      <td>172</td>\n",
       "      <td>215</td>\n",
       "      <td>2.181191</td>\n",
       "      <td>7</td>\n",
       "      <td>12</td>\n",
       "      <td>0.124301</td>\n",
       "    </tr>\n",
       "    <tr>\n",
       "      <th>32</th>\n",
       "      <td>AGGAGTTA+AGCGGTGA</td>\n",
       "      <td>9073</td>\n",
       "      <td>204</td>\n",
       "      <td>255</td>\n",
       "      <td>2.733705</td>\n",
       "      <td>8</td>\n",
       "      <td>14</td>\n",
       "      <td>0.154066</td>\n",
       "    </tr>\n",
       "    <tr>\n",
       "      <th>33</th>\n",
       "      <td>AAGATGGT+TCTCGATA</td>\n",
       "      <td>8975</td>\n",
       "      <td>168</td>\n",
       "      <td>200</td>\n",
       "      <td>2.179837</td>\n",
       "      <td>8</td>\n",
       "      <td>11</td>\n",
       "      <td>0.122413</td>\n",
       "    </tr>\n",
       "    <tr>\n",
       "      <th>34</th>\n",
       "      <td>TAGGCTAA+AAGAGCAT</td>\n",
       "      <td>7922</td>\n",
       "      <td>165</td>\n",
       "      <td>193</td>\n",
       "      <td>2.378312</td>\n",
       "      <td>5</td>\n",
       "      <td>9</td>\n",
       "      <td>0.113479</td>\n",
       "    </tr>\n",
       "    <tr>\n",
       "      <th>35</th>\n",
       "      <td>TAGAGGCT+ACTCCACG</td>\n",
       "      <td>7443</td>\n",
       "      <td>143</td>\n",
       "      <td>157</td>\n",
       "      <td>2.065789</td>\n",
       "      <td>8</td>\n",
       "      <td>11</td>\n",
       "      <td>0.147572</td>\n",
       "    </tr>\n",
       "    <tr>\n",
       "      <th>36</th>\n",
       "      <td>TCCGTGTT+AGATGCCT</td>\n",
       "      <td>7238</td>\n",
       "      <td>127</td>\n",
       "      <td>148</td>\n",
       "      <td>2.003791</td>\n",
       "      <td>3</td>\n",
       "      <td>5</td>\n",
       "      <td>0.069032</td>\n",
       "    </tr>\n",
       "    <tr>\n",
       "      <th>37</th>\n",
       "      <td>CGACTAGG+TACCATTG</td>\n",
       "      <td>6717</td>\n",
       "      <td>158</td>\n",
       "      <td>179</td>\n",
       "      <td>2.595708</td>\n",
       "      <td>10</td>\n",
       "      <td>15</td>\n",
       "      <td>0.222816</td>\n",
       "    </tr>\n",
       "    <tr>\n",
       "      <th>38</th>\n",
       "      <td>ATGATGAC+AAGCGGCA</td>\n",
       "      <td>2698</td>\n",
       "      <td>62</td>\n",
       "      <td>66</td>\n",
       "      <td>2.387844</td>\n",
       "      <td>2</td>\n",
       "      <td>3</td>\n",
       "      <td>0.111070</td>\n",
       "    </tr>\n",
       "    <tr>\n",
       "      <th>39</th>\n",
       "      <td>CACGTGTG+ACAGCCTG</td>\n",
       "      <td>2115</td>\n",
       "      <td>70</td>\n",
       "      <td>74</td>\n",
       "      <td>3.380539</td>\n",
       "      <td>2</td>\n",
       "      <td>2</td>\n",
       "      <td>0.094473</td>\n",
       "    </tr>\n",
       "    <tr>\n",
       "      <th>40</th>\n",
       "      <td>CAAGCGAG+TTCGGCTT</td>\n",
       "      <td>1680</td>\n",
       "      <td>33</td>\n",
       "      <td>34</td>\n",
       "      <td>1.983664</td>\n",
       "      <td>1</td>\n",
       "      <td>1</td>\n",
       "      <td>0.059488</td>\n",
       "    </tr>\n",
       "    <tr>\n",
       "      <th>41</th>\n",
       "      <td>CTAACGTT+ATACCAGG</td>\n",
       "      <td>1671</td>\n",
       "      <td>53</td>\n",
       "      <td>56</td>\n",
       "      <td>3.242617</td>\n",
       "      <td>3</td>\n",
       "      <td>4</td>\n",
       "      <td>0.238806</td>\n",
       "    </tr>\n",
       "    <tr>\n",
       "      <th>42</th>\n",
       "      <td>TTGTTGAG+ACGCGGTT</td>\n",
       "      <td>1175</td>\n",
       "      <td>20</td>\n",
       "      <td>21</td>\n",
       "      <td>1.755853</td>\n",
       "      <td>0</td>\n",
       "      <td>0</td>\n",
       "      <td>0.000000</td>\n",
       "    </tr>\n",
       "    <tr>\n",
       "      <th>43</th>\n",
       "      <td>TACCGTCC+CTCATGAA</td>\n",
       "      <td>550</td>\n",
       "      <td>8</td>\n",
       "      <td>8</td>\n",
       "      <td>1.433692</td>\n",
       "      <td>2</td>\n",
       "      <td>2</td>\n",
       "      <td>0.362319</td>\n",
       "    </tr>\n",
       "    <tr>\n",
       "      <th>44</th>\n",
       "      <td>ATCTCGTA+TCTTTCCC</td>\n",
       "      <td>11650</td>\n",
       "      <td>94</td>\n",
       "      <td>172</td>\n",
       "      <td>1.454915</td>\n",
       "      <td>1</td>\n",
       "      <td>2</td>\n",
       "      <td>0.017164</td>\n",
       "    </tr>\n",
       "  </tbody>\n",
       "</table>\n",
       "</div>"
      ],
      "text/plain": [
       "                Index  Demultiplexed Reads  Similar Index Count  \\\n",
       "0   CTTCGGTC+CATCGTTA                53944                  246   \n",
       "1   TGCGAGGA+TACGGTTA                50517                  203   \n",
       "2   TACGATTC+CGGAAGAG                47636                  236   \n",
       "3   AGAATCAG+TACGACAG                45817                  219   \n",
       "4   AGCATAGT+CAGTCGAG                41549                  428   \n",
       "5   TACCTGGT+TGAGGTCT                40380                  361   \n",
       "7   CTAGAACC+TGGTCTAA                34626                  322   \n",
       "8   CACAATCG+TCAACTCA                26354                  386   \n",
       "9   TACGTGCA+CGTCATTG                20511                  351   \n",
       "10  TTAGTGGT+AAGGTCTG                19647                  357   \n",
       "11  ACGCCACA+CCGAACCA                19363                   98   \n",
       "12  TTCCAATC+TTACGCTA                19327                  293   \n",
       "13  ACGGAGGT+CGAGAGTT                18587                  118   \n",
       "14  TAACATGC+ACACTCAT                18524                  300   \n",
       "15  CGTTAATC+CCAAGTTA                17435                  279   \n",
       "16  CGCTTCCT+ACCACTGA                17421                  303   \n",
       "17  CTGAGAGG+TAGCTACG                15812                  254   \n",
       "18  ACTATTGC+TCCTGTGT                15063                  108   \n",
       "19  CCGTACAT+CAACTGAA                14868                  190   \n",
       "20  CTCTTACC+CGGAGATA                14252                  228   \n",
       "21  TAATGCAG+AAGGCGTT                13877                  254   \n",
       "22  CGATGGTG+AAGTAGTG                13674                  267   \n",
       "23  ACTGGAAT+TCTGTGAA                13226                  184   \n",
       "24  CAGCATGG+CTCAGCAT                12873                  245   \n",
       "25  CTCACAAC+TGGTAGCT                12780                  183   \n",
       "26  TGCAGTGG+AGCTTCTT                11893                   68   \n",
       "27  TTACAGAG+AGTGCCAG                11132                  206   \n",
       "28  AATGCCAA+TTGTGCGT                10921                  151   \n",
       "29  CCGGAACA+CGGTGGAA                10373                  194   \n",
       "30  CTGTCTAT+ATCTAAGG                10240                  196   \n",
       "31  TCTTGCAT+TTCTTGGA                 9642                  172   \n",
       "32  AGGAGTTA+AGCGGTGA                 9073                  204   \n",
       "33  AAGATGGT+TCTCGATA                 8975                  168   \n",
       "34  TAGGCTAA+AAGAGCAT                 7922                  165   \n",
       "35  TAGAGGCT+ACTCCACG                 7443                  143   \n",
       "36  TCCGTGTT+AGATGCCT                 7238                  127   \n",
       "37  CGACTAGG+TACCATTG                 6717                  158   \n",
       "38  ATGATGAC+AAGCGGCA                 2698                   62   \n",
       "39  CACGTGTG+ACAGCCTG                 2115                   70   \n",
       "40  CAAGCGAG+TTCGGCTT                 1680                   33   \n",
       "41  CTAACGTT+ATACCAGG                 1671                   53   \n",
       "42  TTGTTGAG+ACGCGGTT                 1175                   20   \n",
       "43  TACCGTCC+CTCATGAA                  550                    8   \n",
       "44  ATCTCGTA+TCTTTCCC                11650                   94   \n",
       "\n",
       "    Similar Index Reads  Similar Index Percent  Deletion Index Count  \\\n",
       "0                   557               1.022000                    10   \n",
       "1                   366               0.719297                     9   \n",
       "2                   463               0.962598                    11   \n",
       "3                   422               0.912649                    13   \n",
       "4                   728               1.721976                    14   \n",
       "5                   702               1.708778                    11   \n",
       "7                   522               1.485149                     9   \n",
       "8                   545               2.026098                    11   \n",
       "9                   492               2.342522                    12   \n",
       "10                  539               2.670167                     6   \n",
       "11                  154               0.789056                     8   \n",
       "12                  428               2.166540                     7   \n",
       "13                  194               1.032959                    10   \n",
       "14                  389               2.056786                    14   \n",
       "15                  379               2.127540                     5   \n",
       "16                  434               2.430692                     9   \n",
       "17                  334               2.068624                    12   \n",
       "18                  165               1.083530                    11   \n",
       "19                  271               1.790079                    10   \n",
       "20                  313               2.148987                    10   \n",
       "21                  325               2.288410                     7   \n",
       "22                  365               2.599900                    11   \n",
       "23                  248               1.840582                     8   \n",
       "24                  287               2.180851                    11   \n",
       "25                  266               2.038939                    12   \n",
       "26                   99               0.825550                     8   \n",
       "27                  250               2.196451                     7   \n",
       "28                  227               2.036240                     9   \n",
       "29                  237               2.233742                     3   \n",
       "30                  234               2.234103                     5   \n",
       "31                  215               2.181191                     7   \n",
       "32                  255               2.733705                     8   \n",
       "33                  200               2.179837                     8   \n",
       "34                  193               2.378312                     5   \n",
       "35                  157               2.065789                     8   \n",
       "36                  148               2.003791                     3   \n",
       "37                  179               2.595708                    10   \n",
       "38                   66               2.387844                     2   \n",
       "39                   74               3.380539                     2   \n",
       "40                   34               1.983664                     1   \n",
       "41                   56               3.242617                     3   \n",
       "42                   21               1.755853                     0   \n",
       "43                    8               1.433692                     2   \n",
       "44                  172               1.454915                     1   \n",
       "\n",
       "    Deletion Index Reads  Deletion Index Percent  \n",
       "0                    144                0.266233  \n",
       "1                     66                0.130479  \n",
       "2                    123                0.257543  \n",
       "3                     83                0.180828  \n",
       "4                    109                0.261654  \n",
       "5                     90                0.222387  \n",
       "7                     61                0.175858  \n",
       "8                     39                0.147766  \n",
       "9                     43                0.209205  \n",
       "10                    19                0.096613  \n",
       "11                    28                0.144397  \n",
       "12                    37                0.191076  \n",
       "13                    36                0.193309  \n",
       "14                    36                0.193966  \n",
       "15                    16                0.091685  \n",
       "16                    38                0.217653  \n",
       "17                    29                0.183069  \n",
       "18                    27                0.178926  \n",
       "19                    30                0.201369  \n",
       "20                    25                0.175107  \n",
       "21                    24                0.172649  \n",
       "22                    26                0.189781  \n",
       "23                    17                0.128370  \n",
       "24                    17                0.131885  \n",
       "25                    26                0.203030  \n",
       "26                    20                0.167884  \n",
       "27                    12                0.107681  \n",
       "28                    27                0.246620  \n",
       "29                     4                0.038547  \n",
       "30                     8                0.078064  \n",
       "31                    12                0.124301  \n",
       "32                    14                0.154066  \n",
       "33                    11                0.122413  \n",
       "34                     9                0.113479  \n",
       "35                    11                0.147572  \n",
       "36                     5                0.069032  \n",
       "37                    15                0.222816  \n",
       "38                     3                0.111070  \n",
       "39                     2                0.094473  \n",
       "40                     1                0.059488  \n",
       "41                     4                0.238806  \n",
       "42                     0                0.000000  \n",
       "43                     2                0.362319  \n",
       "44                     2                0.017164  "
      ]
     },
     "execution_count": 20,
     "metadata": {},
     "output_type": "execute_result"
    }
   ],
   "source": [
    "index_stats['Similar Index Count'] = [len(similar_index_pairs[index]) for index in index_stats['Index']]\n",
    "index_stats['Similar Index Reads'] = [similar_index_pairs[index].total() for index in index_stats['Index']]\n",
    "index_stats['Similar Index Percent'] = index_stats['Similar Index Reads']/(index_stats['Demultiplexed Reads'] + index_stats['Similar Index Reads']) * 100\n",
    "\n",
    "index_stats['Deletion Index Count'] = [len(observed_deletions[index]) for index in index_stats['Index']]\n",
    "index_stats['Deletion Index Reads'] = [observed_deletions[index].total() for index in index_stats['Index']]\n",
    "index_stats['Deletion Index Percent'] = index_stats['Deletion Index Reads']/(index_stats['Demultiplexed Reads'] + index_stats['Deletion Index Reads']) * 100\n",
    "index_stats"
   ]
  },
  {
   "attachments": {},
   "cell_type": "markdown",
   "metadata": {},
   "source": [
    "The PhiX barcode has a much lower frequency of deletions compared to the other barcodes: ~0.02% vs ~0.2% (PhiX sample is index 44: ATCTCGTA+TCTTTCCC)"
   ]
  },
  {
   "cell_type": "code",
   "execution_count": 21,
   "metadata": {},
   "outputs": [
    {
     "name": "stdout",
     "output_type": "stream",
     "text": [
      "Mean index deletion percent (our barcodes):  0.16287143493596137\n",
      "phiX index deletion percent:  0.017164435290078956\n"
     ]
    }
   ],
   "source": [
    "mean_index_deletion = index_stats[index_stats['Index'] != 'ATCTCGTA+TCTTTCCC']['Deletion Index Percent'].mean()\n",
    "phiX_index_deletion = index_stats[index_stats['Index'] == 'ATCTCGTA+TCTTTCCC']['Deletion Index Percent'].item()\n",
    "\n",
    "print(\"Mean index deletion percent (our barcodes): \", mean_index_deletion)\n",
    "print(\"phiX index deletion percent: \", phiX_index_deletion)"
   ]
  },
  {
   "cell_type": "code",
   "execution_count": 22,
   "metadata": {},
   "outputs": [
    {
     "data": {
      "image/png": "[encoded data removed]",
      "text/plain": [
       "<Figure size 432x288 with 1 Axes>"
      ]
     },
     "metadata": {
      "needs_background": "light"
     },
     "output_type": "display_data"
    }
   ],
   "source": [
    "index_stats.hist('Deletion Index Percent')\n",
    "plt.show()"
   ]
  },
  {
   "cell_type": "code",
   "execution_count": 23,
   "metadata": {},
   "outputs": [
    {
     "data": {
      "text/plain": [
       "12713"
      ]
     },
     "execution_count": 23,
     "metadata": {},
     "output_type": "execute_result"
    }
   ],
   "source": [
    "sum(index_stats['Similar Index Reads'])"
   ]
  },
  {
   "attachments": {},
   "cell_type": "markdown",
   "metadata": {},
   "source": [
    "12713 of the 28265 discarded reads had an index pair within our Levenshtein distance threshold of the correct index sequence. This is probably due to sequencing errors; the percent of similar discarded sequences for PhiX is similar to the percent for our samples."
   ]
  }
 ],
 "metadata": {
  "kernelspec": {
   "display_name": "Python 3.10.4 64-bit",
   "language": "python",
   "name": "python3"
  },
  "language_info": {
   "codemirror_mode": {
    "name": "ipython",
    "version": 3
   },
   "file_extension": ".py",
   "mimetype": "text/x-python",
   "name": "python",
   "nbconvert_exporter": "python",
   "pygments_lexer": "ipython3",
   "version": "3.10.4"
  },
  "orig_nbformat": 4,
  "vscode": {
   "interpreter": {
    "hash": "fa7c27dc793df5be2edaadabdf154ce9b78714d52aa15f6b4e8ee8c3cd646d7f"
   }
  }
 },
 "nbformat": 4,
 "nbformat_minor": 2
}
